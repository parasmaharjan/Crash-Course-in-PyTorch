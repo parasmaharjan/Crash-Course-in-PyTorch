{
 "cells": [
  {
   "cell_type": "code",
   "execution_count": 1,
   "metadata": {},
   "outputs": [],
   "source": [
    "from PIL import Image\n",
    "import os\n",
    "import argparse\n",
    "import glob\n",
    "import numpy as np\n",
    "import torch\n",
    "import torch.nn as nn\n",
    "from torch.autograd import Variable\n",
    "from models import DnCNN\n",
    "\n",
    "from utils import *\n",
    "import matplotlib.pyplot as plt\n"
   ]
  },
  {
   "cell_type": "code",
   "execution_count": 2,
   "metadata": {},
   "outputs": [],
   "source": [
    "os.environ[\"CUDA_DEVICE_ORDER\"] = \"PCI_BUS_ID\"\n",
    "os.environ[\"CUDA_VISIBLE_DEVICES\"] = \"0\"\n",
    "\n",
    "import easydict\n",
    "opt = easydict.EasyDict({\n",
    "        \"num_of_layers\": 20,\n",
    "        \"logdir\": \"logs\",\n",
    "        \"test_data\": '../dataset/DenoisingDataset/Set12',\n",
    "        \"test_noiseL\": 25\n",
    "})"
   ]
  },
  {
   "cell_type": "code",
   "execution_count": 3,
   "metadata": {},
   "outputs": [],
   "source": [
    "def normalize(data):\n",
    "    return data/255.\n"
   ]
  },
  {
   "cell_type": "code",
   "execution_count": null,
   "metadata": {},
   "outputs": [
    {
     "name": "stdout",
     "output_type": "stream",
     "text": [
      "Loading model ...\n",
      "\n",
      "Loading data info ...\n",
      "\n",
      "../dataset/DenoisingDataset/Set12/01.png PSNR 29.954167\n",
      "../dataset/DenoisingDataset/Set12/02.png PSNR 32.952303\n",
      "../dataset/DenoisingDataset/Set12/03.png PSNR 30.787066\n",
      "../dataset/DenoisingDataset/Set12/04.png PSNR 29.298278\n",
      "../dataset/DenoisingDataset/Set12/05.png PSNR 30.304182\n",
      "../dataset/DenoisingDataset/Set12/06.png PSNR 28.974300\n",
      "../dataset/DenoisingDataset/Set12/07.png PSNR 29.307185\n",
      "../dataset/DenoisingDataset/Set12/08.png PSNR 32.307200\n",
      "../dataset/DenoisingDataset/Set12/09.png PSNR 29.754503\n",
      "../dataset/DenoisingDataset/Set12/10.png PSNR 30.116116\n",
      "../dataset/DenoisingDataset/Set12/11.png PSNR 29.979521\n"
     ]
    }
   ],
   "source": [
    "# Build model\n",
    "print('Loading model ...\\n')\n",
    "net = DnCNN(channels=1, num_of_layers=opt.num_of_layers)\n",
    "device_ids = [0]\n",
    "model = nn.DataParallel(net, device_ids=device_ids).cuda()\n",
    "model.load_state_dict(torch.load(os.path.join(opt.logdir, 'DnCNN-B','net.pth')))\n",
    "model.eval()\n",
    "# load data info\n",
    "print('Loading data info ...\\n')\n",
    "files_source = glob.glob(os.path.join(opt.test_data, '*.png'))\n",
    "files_source.sort()\n",
    "# process data\n",
    "psnr_test = 0\n",
    "for f in files_source:\n",
    "    # image\n",
    "    Img = np.asarray(Image.open(f))\n",
    "    Img = normalize(np.float32(Img))\n",
    "    Img_ = Img\n",
    "    Img = np.expand_dims(Img, 0)\n",
    "    Img = np.expand_dims(Img, 1)\n",
    "    ISource = torch.Tensor(Img)\n",
    "    # noise\n",
    "    noise = torch.FloatTensor(ISource.size()).normal_(mean=0, std=opt.test_noiseL/255.)\n",
    "    # noisy image\n",
    "    INoisy = ISource + noise\n",
    "    ISource, INoisy = Variable(ISource.cuda()), Variable(INoisy.cuda())\n",
    "    with torch.no_grad(): # this can save much memory\n",
    "        Out = torch.clamp(INoisy-model(INoisy), 0., 1.)\n",
    "    ## if you are using older version of PyTorch, torch.no_grad() may not be supported\n",
    "    # ISource, INoisy = Variable(ISource.cuda(),volatile=True), Variable(INoisy.cuda(),volatile=True)\n",
    "    # Out = torch.clamp(INoisy-model(INoisy), 0., 1.)\n",
    "    psnr = batch_PSNR(Out, ISource, 1.)\n",
    "    psnr_test += psnr\n",
    "    print(\"%s PSNR %f\" % (f, psnr))\n",
    "    Out = Out.permute(0, 2, 3, 1).cpu().data.numpy()\n",
    "    Out = Out[0,:,:,0]\n",
    "    Noisy = INoisy.permute(0, 2, 3, 1).cpu().data.numpy()\n",
    "    Noisy = Noisy[0,:,:,0]\n",
    "    plt.figure()\n",
    "    plt.subplot(131)\n",
    "    plt.imshow(Img_, cmap='gray')\n",
    "    plt.subplot(132)\n",
    "    plt.imshow(Noisy, cmap='gray')\n",
    "    plt.subplot(133)\n",
    "    plt.imshow(Out, cmap='gray')\n",
    "    plt.text(0, 0, 'PSNR: %.2f'%(psnr), fontsize=12)\n",
    "\n",
    "psnr_test /= len(files_source)\n",
    "print(\"\\nPSNR on test data %f\" % psnr_test)"
   ]
  },
  {
   "cell_type": "code",
   "execution_count": null,
   "metadata": {},
   "outputs": [],
   "source": []
  }
 ],
 "metadata": {
  "kernelspec": {
   "display_name": "Python 3",
   "language": "python",
   "name": "python3"
  },
  "language_info": {
   "codemirror_mode": {
    "name": "ipython",
    "version": 3
   },
   "file_extension": ".py",
   "mimetype": "text/x-python",
   "name": "python",
   "nbconvert_exporter": "python",
   "pygments_lexer": "ipython3",
   "version": "3.6.5"
  }
 },
 "nbformat": 4,
 "nbformat_minor": 2
}
